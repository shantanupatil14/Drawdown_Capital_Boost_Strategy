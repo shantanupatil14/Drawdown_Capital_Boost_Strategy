{
 "cells": [
  {
   "cell_type": "markdown",
   "id": "68d5401e",
   "metadata": {},
   "source": [
    "## 📌 Drawdown-Triggered Capital Allocation Strategy \n",
    "\n",
    "### Overview\n",
    "\n",
    "This notebook implements a **Drawdown-Triggered Capital Allocation Strategy**.\n",
    "\n",
    "The core idea is simple yet powerful:  \n",
    "- Start with a base capital of $100 per stock.\n",
    "- Monitor for a **50% drawdown** from a stock's 1-year peak.\n",
    "- Upon such a drawdown, **exit** the position to preserve capital.\n",
    "- Re-enter the stock once it shows signs of **recovery**, and when doing so, **boost the capital by 10%** to increase allocation into undervalued entries.\n",
    "\n",
    "This capital-boosting approach is based on behavioral market dynamics — betting on **reversion from excessive pessimism**. It’s realistic, conservative, and mimics how long-term discretionary investors (think: value funds, contrarians) scale into pain.\n",
    "\n",
    "The strategy is benchmarked against the S&P 500 (SPY) and is fully vectorized for multiple stocks.\n"
   ]
  },
  {
   "cell_type": "markdown",
   "id": "418acf9c",
   "metadata": {},
   "source": [
    "## Libraries Used\n",
    "\n",
    "We use the following libraries:\n",
    "\n",
    "- `yfinance`: For fetching historical stock data\n",
    "- `pandas`, `numpy`: For data manipulation and calculations\n",
    "- `matplotlib`: For plotting performance\n"
   ]
  },
  {
   "cell_type": "code",
   "execution_count": 1,
   "id": "9099b203",
   "metadata": {},
   "outputs": [],
   "source": [
    "import yfinance as yf\n",
    "import pandas as pd\n",
    "import numpy as np\n",
    "from scipy.stats import t as t_cal\n",
    "import matplotlib.pyplot as plt\n",
    "plt.style.use(\"seaborn-darkgrid\")"
   ]
  },
  {
   "cell_type": "markdown",
   "id": "281fc677",
   "metadata": {},
   "source": [
    "## Parameters & Data Pull\n",
    "\n",
    "We define:\n",
    "\n",
    "- A list of 12 tickers across sectors + SPY as benchmark\n",
    "- Analysis period: Jan 1, 2019 to Dec 31, 2024\n",
    "- Initial capital: $100 per stock\n",
    "- Drawdown threshold: 50%\n",
    "- Capital boost per re-entry: 10%\n",
    "- Lookback window: 252 days (~1 trading year)\n",
    "\n",
    "Prices are pulled using `yfinance`, adjusted for dividends and splits via `Adj Close`.\n"
   ]
  },
  {
   "cell_type": "code",
   "execution_count": 2,
   "id": "2da57d22",
   "metadata": {},
   "outputs": [],
   "source": [
    "# Parameters\n",
    "tickers = [\"AMZN\", \"WMT\", \"NVDA\", \"F\", \"CVX\", \"GOOGL\", \"JNJ\", \"JPM\", \"COST\", \"TSM\", \"BLK\" ,\"GLD\"]\n",
    "benchmark = \"SPY\"\n",
    "start = \"2019-01-01\"\n",
    "end = \"2024-12-31\"\n",
    "initial_capital = 100.0\n",
    "boost_pct = 0.10\n",
    "dd_threshold = 0.50\n",
    "lookback_days = 252\n",
    "\n",
    "# Fetch price data\n",
    "prices = yf.download(tickers + [benchmark], start=start, end=end, progress=False, auto_adjust=False)[\"Adj Close\"].dropna()"
   ]
  },
  {
   "cell_type": "markdown",
   "id": "200bed67",
   "metadata": {},
   "source": [
    "## Strategy Logic\n",
    "\n",
    "### Exit Condition:\n",
    "If price drops **50% below** the rolling 1-year peak, we **exit the position** entirely (i.e., sell all shares and move to cash).\n",
    "\n",
    "### Re-entry Condition:\n",
    "If price **climbs back above** the same 50%-off level from the previous peak, we **re-enter the position**, but this time with **10% additional capital** (boost).\n",
    "\n",
    "Each re-entry adds to our total capital at risk.\n",
    "\n",
    "The function `boosted_strategy()` handles this logic and returns:\n",
    "- The equity curve\n",
    "- Total number of boost events\n",
    "- Total capital invested over time\n"
   ]
  },
  {
   "cell_type": "code",
   "execution_count": 3,
   "id": "8089e556",
   "metadata": {},
   "outputs": [],
   "source": [
    "#Define the strategy\n",
    "\n",
    "def boosted_strategy(price):\n",
    "    capital = initial_capital\n",
    "    shares = capital / price.iloc[0]\n",
    "    cash = 0.0\n",
    "    invested = True\n",
    "    boost_events = 0\n",
    "    total_invested = capital\n",
    "    equity_curve = []\n",
    "\n",
    "    for i in range(len(price)):\n",
    "        today_price = price.iloc[i]\n",
    "        if i >= lookback_days:\n",
    "            peak = price.iloc[i - lookback_days:i].max()\n",
    "        else:\n",
    "            peak = price.iloc[:i + 1].max()\n",
    "\n",
    "        # Drawdown exit\n",
    "        if invested and today_price < (1 - dd_threshold) * peak:\n",
    "            cash = shares * today_price\n",
    "            shares = 0.0\n",
    "            invested = False\n",
    "\n",
    "        # Re-entry at drawdown threshold level\n",
    "        if not invested and today_price >= (1 - dd_threshold) * peak:\n",
    "            boost_cap = boost_pct * initial_capital\n",
    "            capital += boost_cap\n",
    "            total_invested += boost_cap\n",
    "            shares = capital / today_price\n",
    "            cash = 0.0\n",
    "            invested = True\n",
    "            boost_events += 1\n",
    "\n",
    "        equity = shares * today_price + cash\n",
    "        equity_curve.append(equity)\n",
    "\n",
    "    return pd.Series(equity_curve, index=price.index), boost_events, total_invested"
   ]
  },
  {
   "cell_type": "markdown",
   "id": "dd5e52d1",
   "metadata": {},
   "source": [
    "## Strategy Execution\n",
    "\n",
    "For each stock in the ticker list:\n",
    "- Apply the `boosted_strategy()` function\n",
    "- Store its equity curve, boost count, and final invested capital\n",
    "- Track returns and boost activity individually\n",
    "\n",
    "This helps identify which stocks triggered drawdown boosts and which did not.\n"
   ]
  },
  {
   "cell_type": "code",
   "execution_count": 4,
   "id": "69115594",
   "metadata": {},
   "outputs": [],
   "source": [
    "# Run the strategy per ticker\n",
    "eq_curves = pd.DataFrame(index=prices.index)\n",
    "boost_counts = {}\n",
    "total_invested_tracker = {}\n",
    "final_values = {}\n",
    "\n",
    "for t in tickers:\n",
    "    eq, boosts, total_invested = boosted_strategy(prices[t])\n",
    "    eq_curves[t] = eq\n",
    "    boost_counts[t] = boosts\n",
    "    total_invested_tracker[t] = total_invested\n",
    "    final_values[t] = eq.iloc[-1]"
   ]
  },
  {
   "cell_type": "markdown",
   "id": "7ea24dde",
   "metadata": {},
   "source": [
    "## ROI Calculation\n",
    "\n",
    "Using the final values and total capital invested per stock, we compute the **Return on Investment (ROI)** for each.\n",
    "\n",
    "ROI = Final Value / Total Invested\n",
    "\n",
    "This helps compare capital efficiency across tickers.\n"
   ]
  },
  {
   "cell_type": "code",
   "execution_count": 5,
   "id": "3d1c47b9",
   "metadata": {},
   "outputs": [],
   "source": [
    "# Portfolio ROI\n",
    "roi = {t: final_values[t] / total_invested_tracker[t] for t in tickers}"
   ]
  },
  {
   "cell_type": "markdown",
   "id": "5e4ac108",
   "metadata": {},
   "source": [
    "## Equal-Weighted Portfolio Construction\n",
    "\n",
    "We simulate a **daily rebalanced equal-weighted portfolio** using all stocks.\n",
    "\n",
    "Why?\n",
    "\n",
    "- Avoid overexposure to any single outperformer\n",
    "- Mimics ETF-style behavior\n",
    "- Reflects aggregate performance of the strategy across sectors\n",
    "\n",
    "This is critical for comparing against SPY and evaluating diversification benefits.\n"
   ]
  },
  {
   "cell_type": "code",
   "execution_count": 6,
   "id": "a2fd1cd1",
   "metadata": {},
   "outputs": [],
   "source": [
    "# Equal-weighted portfolio\n",
    "daily_port_ret = eq_curves.pct_change().mean(axis=1).fillna(0)\n",
    "total_portfolio_invested = sum(total_invested_tracker.values())\n",
    "port_equity = (1 + daily_port_ret).cumprod() * total_portfolio_invested\n",
    "spy_equity = (1 + prices[benchmark].pct_change().fillna(0)).cumprod() * total_portfolio_invested"
   ]
  },
  {
   "cell_type": "markdown",
   "id": "3b01d19e",
   "metadata": {},
   "source": [
    "## Performance Metrics (KPIs)\n",
    "\n",
    "For each stock + the portfolio:\n",
    "\n",
    "- **CAGR (Compound Annual Growth Rate)**: Measures growth rate assuming compounding\n",
    "- **Sharpe Ratio**: Measures return per unit of risk (excess return / volatility)\n",
    "- **Max Drawdown**: Captures worst peak-to-trough fall\n",
    "\n",
    "This gives a holistic picture of return, risk, and efficiency."
   ]
  },
  {
   "cell_type": "code",
   "execution_count": 7,
   "id": "57d6d9d5",
   "metadata": {},
   "outputs": [],
   "source": [
    "# Metrics function\n",
    "def compute_metrics(series):\n",
    "    ret = series.pct_change().dropna()\n",
    "    cagr = (series.iloc[-1] / series.iloc[0]) ** (252 / len(series)) - 1\n",
    "    sharpe = (ret.mean() * 252) / (ret.std() * np.sqrt(252))\n",
    "    t_stat = (ret.mean() / ret.std()) * np.sqrt(len(ret))\n",
    "    df_ = len(ret) - 1\n",
    "    p_value = 2 * (1 - t_cal.cdf(np.abs(t_stat), df_))\n",
    "    max_dd = 1 - series / series.cummax()\n",
    "    return pd.Series({\n",
    "        \"Final $\": series.iloc[-1],\n",
    "        \"CAGR\": cagr,\n",
    "        \"Sharpe\": sharpe,\n",
    "        \"Max DD\": max_dd.max(),\n",
    "        \"T-Stat\": t_stat,\n",
    "        \"P-Value\": p_value\n",
    "    })\n",
    "\n",
    "summary = eq_curves.apply(compute_metrics, axis=0).T\n",
    "summary.loc[\"Portfolio\"] = compute_metrics(port_equity)\n",
    "summary.loc[\"SPY\"] = compute_metrics(spy_equity)"
   ]
  },
  {
   "cell_type": "markdown",
   "id": "ecafd886",
   "metadata": {},
   "source": [
    "## Output Summary\n",
    "\n",
    "You’ll find printed tables showing:\n",
    "\n",
    "- Performance metrics of each stock\n",
    "- Number of boost events per stock\n",
    "- ROI (Final / Total Invested)\n",
    "- Total capital deployed and final portfolio value\n",
    "- Overall portfolio ROI\n",
    "\n",
    "These outputs let you judge the **capital efficiency** and **strategy execution** in real-world terms.\n"
   ]
  },
  {
   "cell_type": "code",
   "execution_count": 8,
   "id": "441cc003",
   "metadata": {},
   "outputs": [
    {
     "name": "stdout",
     "output_type": "stream",
     "text": [
      "\n",
      "📊 Performance Summary (Start $100):\n",
      "\n",
      "           Final $  CAGR  Sharpe  Max DD  T-Stat  P-Value\n",
      "AMZN        359.92  0.24    0.78    0.60    1.90     0.06\n",
      "WMT         320.12  0.21    1.01    0.26    2.48     0.01\n",
      "NVDA       1666.75  0.60    1.19    0.90    2.90     0.00\n",
      "F           209.79  0.13    0.50    0.79    1.23     0.22\n",
      "CVX         291.94  0.20    0.53    0.55    1.29     0.20\n",
      "GOOGL       363.96  0.24    0.85    0.44    2.07     0.04\n",
      "JNJ         132.53  0.05    0.34    0.27    0.83     0.40\n",
      "JPM         287.15  0.19    0.73    0.44    1.78     0.08\n",
      "COST        494.88  0.31    1.28    0.31    3.13     0.00\n",
      "TSM         352.94  0.23    0.74    0.75    1.81     0.07\n",
      "BLK         308.03  0.21    0.78    0.44    1.90     0.06\n",
      "GLD         198.33  0.12    0.84    0.22    2.06     0.04\n",
      "Portfolio  6710.76  0.29    1.32    0.33    3.23     0.00\n",
      "SPY        3798.51  0.17    0.90    0.34    2.20     0.03\n",
      "\n",
      "🔁 Boost Events per Stock:\n",
      "\n",
      "AMZN      4\n",
      "WMT       0\n",
      "NVDA      8\n",
      "F        12\n",
      "CVX       1\n",
      "GOOGL     0\n",
      "JNJ       0\n",
      "JPM       0\n",
      "COST      0\n",
      "TSM       2\n",
      "BLK       0\n",
      "GLD       0\n",
      "dtype: int64\n",
      "\n",
      "📈 ROI (Final / Total Invested):\n",
      "\n",
      "AMZN     2.57\n",
      "WMT      3.20\n",
      "NVDA     9.26\n",
      "F        0.95\n",
      "CVX      2.65\n",
      "GOOGL    3.64\n",
      "JNJ      1.33\n",
      "JPM      2.87\n",
      "COST     4.95\n",
      "TSM      2.94\n",
      "BLK      3.08\n",
      "GLD      1.98\n",
      "dtype: float64\n",
      "\n",
      "📊 Portfolio Performance Summary (Start $100):\n",
      "\n",
      "Final $    6710.76\n",
      "CAGR          0.29\n",
      "Sharpe        1.32\n",
      "Max DD        0.33\n",
      "T-Stat        3.23\n",
      "P-Value       0.00\n",
      "Name: Portfolio, dtype: float64\n",
      "\n",
      "💰 Total Invested in Portfolio: $1470.00\n",
      "📈 Final Portfolio Value:       $6710.76\n",
      "🔄 Total Portfolio ROI:         4.57x\n"
     ]
    }
   ],
   "source": [
    "# Outputs\n",
    "print(\"\\n📊 Performance Summary (Start $100):\\n\")\n",
    "print(summary.round(2))\n",
    "\n",
    "print(\"\\n🔁 Boost Events per Stock:\\n\")\n",
    "print(pd.Series(boost_counts))\n",
    "\n",
    "print(\"\\n📈 ROI (Final / Total Invested):\\n\")\n",
    "print(pd.Series(roi).round(2))\n",
    "\n",
    "print(\"\\n📊 Portfolio Performance Summary (Start $100):\\n\")\n",
    "print(summary.loc[\"Portfolio\"].round(2))\n",
    "\n",
    "print(f\"\\n💰 Total Invested in Portfolio: ${total_portfolio_invested:.2f}\")\n",
    "print(f\"📈 Final Portfolio Value:       ${port_equity.iloc[-1]:.2f}\")\n",
    "print(f\"🔄 Total Portfolio ROI:         {(port_equity.iloc[-1] / total_portfolio_invested):.2f}x\")\n"
   ]
  },
  {
   "cell_type": "markdown",
   "id": "1522fced",
   "metadata": {},
   "source": [
    "## Portfolio vs Benchmark Plot\n",
    "\n",
    "This section visualizes the **strategy’s cumulative portfolio value** over time, compared to SPY.\n",
    "\n",
    "- A solid line shows the Drawdown Allocation Portfolio\n",
    "- A dashed line shows SPY for benchmark comparison\n",
    "\n",
    "Visuals speak louder than metrics alone — this shows how dynamic capital allocation compares to passive indexing.\n"
   ]
  },
  {
   "cell_type": "code",
   "execution_count": 9,
   "id": "e5b1677e",
   "metadata": {},
   "outputs": [
    {
     "data": {
      "image/png": "[encoded data removed]",
      "text/plain": [
       "<Figure size 864x432 with 1 Axes>"
      ]
     },
     "metadata": {},
     "output_type": "display_data"
    }
   ],
   "source": [
    "# Plot\n",
    "plt.figure(figsize=(12,6))\n",
    "plt.plot(port_equity, linewidth=2.2, label=\"Equal Weight Portfolio\")\n",
    "plt.plot(spy_equity, linestyle=\"--\", linewidth=2.2, label=\"SPY\")\n",
    "plt.title(\"Equity Curves with 20% Capital Boost on 30% Drawdown (Smarter Re-entry)\")\n",
    "plt.ylabel(\"Value ($)\")\n",
    "plt.legend()\n",
    "plt.tight_layout()\n",
    "plt.savefig(\"boosted_strategy_equity.png\", dpi=150)\n",
    "plt.show()"
   ]
  },
  {
   "cell_type": "markdown",
   "id": "160ec076",
   "metadata": {},
   "source": [
    "## Conclusion & Performance Recap\n",
    "\n",
    "The **Drawdown-Triggered Capital Allocation Strategy** produced strong, risk-adjusted performance over a 6-year window (2019–2024), significantly outperforming the benchmark SPY ETF.\n",
    "\n",
    "### Key Portfolio-Level Results:\n",
    "\n",
    "| Metric                | Strategy Portfolio |  SPY Benchmark   |\n",
    "|-----------------------|---------------------|-----------------|\n",
    "| **Final Value**       | USD 6,710.76        | USD 3,798.51    |\n",
    "| **CAGR**              | 29%                 | 17%             |\n",
    "| **Sharpe Ratio**      | 1.32                | 0.90            |\n",
    "| **Max Drawdown**      | 33%                 | 34%             |\n",
    "| **Portfolio ROI**     | **4.57x**           | **2.58x**       |\n",
    "| **T-value**           | **3.23**           | **2.20**       |\n",
    "| **p-value**           | **0.0016**           | **0.03**       |\n",
    "\n",
    "> ✅ The strategy **outperformed SPY by 1.7x** in ROI while maintaining a **lower maximum drawdown**, indicating better downside control.\n",
    "\n",
    "---\n",
    "\n",
    "### Insights by Stock:\n",
    "\n",
    "- **Top Performer (Absolute Returns)**: `NVDA`, ROI = 9.26x, CAGR = 60%\n",
    "- **Most Boosted**: `F` (12 boosts), but only marginal ROI (0.95x) – high volatility, low recovery\n",
    "- **Best Risk-Adjusted Return**: `COST`, Sharpe = 1.28\n",
    "- **Consistent Winners**: `GOOGL`, `WMT`, `COST`, `BLK` – all had strong CAGR, Sharpe > 0.75\n",
    "- **Underperformers**: `JNJ`, despite no boosts, returned only 1.33x — lower volatility, defensive profile\n",
    "\n",
    "---\n",
    "\n",
    "### Strategic Takeaways:\n",
    "\n",
    "- Stocks with **high upside volatility** and momentum (like `NVDA`, `COST`) benefited disproportionately from the capital re-entry logic.\n",
    "- The **drawdown detection** + **re-entry boost** allows for better capital deployment into recoveries rather than blindly averaging down.\n",
    "- **SPY underperformed**, both in absolute and risk-adjusted terms, showing that active drawdown-based allocation has merit over passive buy-and-hold in this sample.\n",
    "\n",
    "---\n",
    "\n",
    "### Final Thoughts:\n",
    "\n",
    "This strategy is robust, interpretable, and grounded in realistic behavioral assumptions — exiting during deep falls and boosting capital only upon recovery. Its performance edge, especially when backtested across diversified sectors, suggests it could act as a valuable component in a multi-strategy portfolio or managed account structure.\n",
    "\n",
    "It also demonstrates the ability to:\n",
    "\n",
    "- **Dynamically manage risk** via drawdown exits  \n",
    "- **Amplify winners** through systematic capital boosts  \n",
    "- **Deliver alpha** without market timing or forecasting earnings"
   ]
  },
  {
   "cell_type": "code",
   "execution_count": null,
   "id": "4a4d78ab",
   "metadata": {},
   "outputs": [],
   "source": []
  }
 ],
 "metadata": {
  "kernelspec": {
   "display_name": "Python 3 (ipykernel)",
   "language": "python",
   "name": "python3"
  },
  "language_info": {
   "codemirror_mode": {
    "name": "ipython",
    "version": 3
   },
   "file_extension": ".py",
   "mimetype": "text/x-python",
   "name": "python",
   "nbconvert_exporter": "python",
   "pygments_lexer": "ipython3",
   "version": "3.9.12"
  }
 },
 "nbformat": 4,
 "nbformat_minor": 5
}
